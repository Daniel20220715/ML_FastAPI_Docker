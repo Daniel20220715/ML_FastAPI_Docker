{
 "cells": [
  {
   "cell_type": "code",
   "execution_count": null,
   "id": "f7d2e97e",
   "metadata": {},
   "outputs": [],
   "source": [
    "import numpy as np\n",
    "import pandas as pd\n",
    "import matplotlib.pyplot as plt\n",
    "from sklearn.model_selection import train_test_split\n",
    "from sklearn.preprocessing import StandardScaler\n",
    "from sklearn.linear_model import LinearRegression\n",
    "from sklearn.metrics import mean_squared_error, r2_score\n",
    "import joblib\n",
    "\n",
    "# Set random seed for reproducibility\n",
    "np.random.seed(42)\n",
    "\n",
    "# Generate random data for hours studies (Feature1) and test scores (Target)\n",
    "n_samples = 500\n",
    "X1 = np.random.uniform(1, 10, n_samples)  # Feature1: Hours studied\n",
    "noise = np.random.normal(0, 5, n_samples)  # Random Noise\n",
    "y = 10 * X1 + noise  # Linear relationship with noise\n",
    "\n",
    "# Create a DataFrame for easy manipulation\n",
    "data = pd.DataFrame({'Hours_Studied': X1, 'Test_Score': y})\n",
    "data.head()\n"
   ]
  },
  {
   "cell_type": "code",
   "execution_count": null,
   "id": "3127231f",
   "metadata": {},
   "outputs": [],
   "source": [
    "# Scatter plot to visualize the relationship\n",
    "\n",
    "plt.scatter(data['Hours_Studied'], data['Test_Score'])\n",
    "plt.title('Hours Studied vs Test Score')\n",
    "plt.xlabel('Hours Studied')\n",
    "plt.ylabel('Test Score')\n",
    "plt.show()\n",
    "\n",
    "# Check the correlation between features and target\n",
    "corr_matrix = data.corr()\n",
    "print(corr_matrix)\n",
    "\n"
   ]
  },
  {
   "cell_type": "code",
   "execution_count": null,
   "id": "e3673948",
   "metadata": {},
   "outputs": [],
   "source": [
    "# Split the dataset into independant variables (X) and dependent variable (y)\n",
    "X = data[['Hours_Studied']]\n",
    "y = data['Test_Score']\n",
    "\n",
    "#Split the dataset into training and testing sets\n",
    "X_train, X_test, y_train, y_test = train_test_split(X, y, test_size=0.2, random_state=42)\n",
    "\n",
    "#Scale the features using StandardScaler\n",
    "scaler = StandardScaler()\n",
    "X_train_scaled = scaler.fit_transform(X_train)\n",
    "X_test_scaled = scaler.transform(X_test)\n"
   ]
  },
  {
   "cell_type": "code",
   "execution_count": null,
   "id": "f18f70a3",
   "metadata": {},
   "outputs": [],
   "source": [
    "# Instantiate the Linear Regression model\n",
    "model = LinearRegression()\n",
    "\n",
    "# Train the model on the training data\n",
    "model.fit(X_train_scaled, y_train)\n",
    "\n",
    "# Check the model coefficients and intercept\n",
    "print(\"Coefficients:\", model.coef_)\n",
    "print(\"Intercept:\", model.intercept_)\n"
   ]
  },
  {
   "cell_type": "code",
   "execution_count": null,
   "id": "9ae46613",
   "metadata": {},
   "outputs": [],
   "source": [
    "# Example of predicting a single value using a new data point\n",
    "new_data = np.array([[6]])  # Example: 5 hours studied\n",
    "new_data_df = pd.DataFrame(new_data, columns=['Hours_Studied'])\n",
    "\n",
    "# Scale the new data point\n",
    "new_data_scaled = scaler.transform(new_data_df)\n",
    "\n",
    "#Predict the test score\n",
    "single_prediction = model.predict(new_data_scaled)\n",
    "print(f\"Predicted Test Score for 6 hours of study: {single_prediction[0]}\")\n"
   ]
  },
  {
   "cell_type": "code",
   "execution_count": null,
   "id": "bcded7ea",
   "metadata": {},
   "outputs": [],
   "source": [
    "#Predict on the test set\n",
    "y_pred = model.predict(X_test_scaled)\n",
    "\n",
    "# Calculate the Mean Squared Error and R^2 score\n",
    "mse = mean_squared_error(y_test, y_pred)\n",
    "r2 = r2_score(y_test, y_pred)\n",
    "\n",
    "print(f\"Mean Squared Error: {mse}\")\n",
    "print(f\"R^2 Score: {r2}\")\n"
   ]
  },
  {
   "cell_type": "code",
   "execution_count": null,
   "id": "daa32083",
   "metadata": {},
   "outputs": [],
   "source": [
    "# Save the trained model to a file\n",
    "joblib.dump(model, 'linear_regression_model.pkl')\n",
    "joblib.dump(scaler, 'scaler.pkl')\n",
    "\n"
   ]
  },
  {
   "cell_type": "code",
   "execution_count": null,
   "id": "bf94619b",
   "metadata": {},
   "outputs": [],
   "source": [
    "# Load the saved model and scaler\n",
    "loaded_model = joblib.load('linear_regression_model.pkl')\n",
    "loaded_scaler = joblib.load('scaler.pkl')\n",
    "\n",
    "#New data for prediction (e.g. 6 hours studied)\n",
    "new_data = np.array([[6]])  # Example: 6 hours studied\n",
    "new_data_df = pd.DataFrame(new_data, columns=['Hours_Studied']) \n",
    "\n",
    "#Scaled the new data using the loaded scaler\n",
    "new_data_scaled = loaded_scaler.transform(new_data_df)\n",
    "\n",
    "#Make a prediction using the loaded model\n",
    "single_prediction = loaded_model.predict(new_data_scaled)\n",
    "\n",
    "#Output the predicted test score\n",
    "print(f\"Predicted Test Score for 6 hours of study (using loaded model): {single_prediction[0]}\")\n"
   ]
  }
 ],
 "metadata": {
  "kernelspec": {
   "display_name": "myenv",
   "language": "python",
   "name": "python3"
  },
  "language_info": {
   "codemirror_mode": {
    "name": "ipython",
    "version": 3
   },
   "file_extension": ".py",
   "mimetype": "text/x-python",
   "name": "python",
   "nbconvert_exporter": "python",
   "pygments_lexer": "ipython3",
   "version": "3.10.16"
  }
 },
 "nbformat": 4,
 "nbformat_minor": 5
}
